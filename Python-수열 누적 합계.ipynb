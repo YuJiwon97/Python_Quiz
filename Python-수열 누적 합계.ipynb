{
 "cells": [
  {
   "cell_type": "code",
   "execution_count": 1,
   "id": "093a15c5",
   "metadata": {},
   "outputs": [
    {
     "name": "stdout",
     "output_type": "stream",
     "text": [
      "[1, 2, 3, 5, 8, 13, 21, 34, 55, 89, 144, 233, 377, 610, 987, 1597, 2584, 4181, 6765, 10946, 17711, 28657, 46368, 75025, 121393, 196418, 317811, 514229, 832040, 1346269, 2178309, 3524578, 5702887, 9227465, 14930352, 24157817, 39088169, 63245986, 102334155, 165580141]\n",
      "[2, 8, 34, 144, 610, 2584, 10946, 46368, 196418, 832040, 3524578]\n",
      "4613732\n"
     ]
    }
   ],
   "source": [
    "#Q. 1, 2, 3, 5, 8, 13, 21... 수열에서 짝수이면서 4백만 이하의 모든 항의 합을 구하시오\n",
    "\n",
    "fibo =[1,2]\n",
    "\n",
    "for tmp in range(2,40,1):\n",
    "    fibo.append(fibo[tmp-2]+fibo[tmp-1])\n",
    "print(fibo)\n",
    "\n",
    "result = set()\n",
    "for tmp in range(len(fibo)):\n",
    "    if fibo[tmp]%2 == 0 and fibo[tmp] <= 4*10E5:\n",
    "        result.add(fibo[tmp])\n",
    "print(sorted(result))\n",
    "print(sum(result))"
   ]
  }
 ],
 "metadata": {
  "kernelspec": {
   "display_name": "Python [conda env:data_env] *",
   "language": "python",
   "name": "conda-env-data_env-py"
  },
  "language_info": {
   "codemirror_mode": {
    "name": "ipython",
    "version": 3
   },
   "file_extension": ".py",
   "mimetype": "text/x-python",
   "name": "python",
   "nbconvert_exporter": "python",
   "pygments_lexer": "ipython3",
   "version": "3.8.12"
  }
 },
 "nbformat": 4,
 "nbformat_minor": 5
}
