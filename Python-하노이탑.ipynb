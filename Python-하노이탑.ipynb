{
 "cells": [
  {
   "cell_type": "code",
   "execution_count": 12,
   "id": "f1fbde9a",
   "metadata": {},
   "outputs": [
    {
     "name": "stdout",
     "output_type": "stream",
     "text": [
      "N: 3\n",
      "[3, 2, 1]\n",
      "[]\n",
      "[]\n",
      "\n",
      "[3, 2]\n",
      "[]\n",
      "[1]\n",
      "\n",
      "[3]\n",
      "[2]\n",
      "[1]\n",
      "\n",
      "[3]\n",
      "[2, 1]\n",
      "[]\n",
      "\n",
      "[]\n",
      "[2, 1]\n",
      "[3]\n",
      "\n",
      "[1]\n",
      "[2]\n",
      "[3]\n",
      "\n",
      "[1]\n",
      "[]\n",
      "[3, 2]\n",
      "\n",
      "[]\n",
      "[]\n",
      "[3, 2, 1]\n",
      "\n"
     ]
    }
   ],
   "source": [
    "num = eval(input(\"N: \")) \n",
    "# eval 함수는 문자열을 수식으로 처리해서 계산한 후, 계산 값을 함수의 결괏값으로 돌려준다\n",
    "\n",
    "column1 = list(range(num, 0, -1))\n",
    "column2 = []\n",
    "column3 = []\n",
    "\n",
    "def DrawDisk ():\n",
    "    print(column1)\n",
    "    print(column2)\n",
    "    print(column3)\n",
    "    print()\n",
    "\n",
    "def MoveDisk(size, depart, arrival, other):\n",
    "    if(size == 1):         # 출발지에 있는 것의 길이가 1개 라면..\n",
    "        arrival.append(depart.pop())  \n",
    "        # 다른 것에 도착하고 출발한 것은 1개 제거하고 반환해서 뒤에 붙인다.\n",
    "        DrawDisk()\n",
    "    else:\n",
    "        MoveDisk(size -1, depart, other, arrival)\n",
    "        arrival.append(depart.pop())\n",
    "        DrawDisk()\n",
    "        MoveDisk(size -1, other, arrival, depart)\n",
    "\n",
    "DrawDisk()\n",
    "MoveDisk(num, column1, column3, column2)\n",
    "\n",
    "        \n",
    "#DrawDisk(Disk1, Disk2, Disk3)\n"
   ]
  },
  {
   "cell_type": "code",
   "execution_count": null,
   "id": "02ef3f99",
   "metadata": {},
   "outputs": [],
   "source": []
  }
 ],
 "metadata": {
  "kernelspec": {
   "display_name": "Python [conda env:data_env] *",
   "language": "python",
   "name": "conda-env-data_env-py"
  },
  "language_info": {
   "codemirror_mode": {
    "name": "ipython",
    "version": 3
   },
   "file_extension": ".py",
   "mimetype": "text/x-python",
   "name": "python",
   "nbconvert_exporter": "python",
   "pygments_lexer": "ipython3",
   "version": "3.8.12"
  }
 },
 "nbformat": 4,
 "nbformat_minor": 5
}
