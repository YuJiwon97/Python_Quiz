{
 "cells": [
  {
   "cell_type": "code",
   "execution_count": null,
   "id": "229ce242",
   "metadata": {},
   "outputs": [],
   "source": [
    "#Q.1000보다 작은 자연수 중에 3 또는 5의 배수들의 합을 구하세요\n",
    "\n",
    "#방법 1\n",
    "result = 0\n",
    "for num in range(1, 1000):\n",
    "    if num % 3 == 0 or num % 5 == 0: \n",
    "        result += num\n",
    "print(result)\n",
    "\n",
    "#방법 2\n",
    "result = set()\n",
    "for num in range(1000):\n",
    "    if num % 3 == 0:\n",
    "        result.add(num)\n",
    "    if num % 5 == 0:\n",
    "        result.add(num)\n",
    "        \n",
    "print(sum(result))"
   ]
  }
 ],
 "metadata": {
  "kernelspec": {
   "display_name": "Python [conda env:data_env] *",
   "language": "python",
   "name": "conda-env-data_env-py"
  },
  "language_info": {
   "codemirror_mode": {
    "name": "ipython",
    "version": 3
   },
   "file_extension": ".py",
   "mimetype": "text/x-python",
   "name": "python",
   "nbconvert_exporter": "python",
   "pygments_lexer": "ipython3",
   "version": "3.8.12"
  }
 },
 "nbformat": 4,
 "nbformat_minor": 5
}
